{
 "cells": [
  {
   "cell_type": "raw",
   "metadata": {},
   "source": [
    "Напишите скрипт, который читает текстовый файл и выводит символы в порядке убывания частоты встречаемости в тексте. Регистр символа не имеет значения. Программа должна учитывать только буквенные символы (символы пунктуации, цифры и служебные символы слудет игнорировать). Проверьте работу скрипта на нескольких файлах с текстом на английском и русском языках, сравните результаты с таблицами, приведенными в wikipedia.org/wiki/Letter_frequencies"
   ]
  },
  {
   "cell_type": "code",
   "execution_count": 26,
   "metadata": {},
   "outputs": [
    {
     "name": "stdout",
     "output_type": "stream",
     "text": [
      "о:33\n",
      "и:30\n",
      "с:23\n",
      "а:21\n",
      "н:19\n",
      "т:17\n",
      "л:17\n",
      "е:16\n",
      "р:14\n",
      "д:12\n",
      "м:11\n",
      "у:11\n",
      "ь:10\n",
      "в:8\n",
      "ю:8\n",
      "к:8\n",
      "г:7\n",
      "б:7\n",
      "п:5\n",
      "ч:5\n",
      "ы:5\n",
      "з:4\n",
      "я:4\n",
      "ж:3\n",
      "й:2\n",
      "ц:2\n",
      "х:1\n",
      "------------------------------\n",
      "e:49\n",
      "a:21\n",
      "t:20\n",
      "o:20\n",
      "i:20\n",
      "h:19\n",
      "n:19\n",
      "r:17\n",
      "s:16\n",
      "l:14\n",
      "d:13\n",
      "y:12\n",
      "g:10\n",
      "b:10\n",
      "w:8\n",
      "f:8\n",
      "m:8\n",
      "c:7\n",
      "p:5\n",
      "v:5\n",
      "u:5\n",
      "k:3\n",
      "x:1\n"
     ]
    }
   ],
   "source": [
    "from collections import Counter\n",
    "def act(path):\n",
    "    try:\n",
    "        counter=Counter()\n",
    "        with open(path, 'rt',encoding='utf-8') as f:\n",
    "            lines = f.readlines()\n",
    "    except IOError as err:\n",
    "        print(err)\n",
    "        lines = []\n",
    "    \n",
    "    newlines = str([x.rstrip() for x in lines]).lower()\n",
    "\n",
    "    for s in newlines:\n",
    "        if s.isalpha():\n",
    "            counter[s]+=1\n",
    "\n",
    "    for s,q in counter.most_common():\n",
    "        print(\"{s}:{q}\".format(s=s,q=q))\n",
    "\n",
    "act(r'C:\\Users\\MSI\\Desktop\\Task1(Rus).txt')\n",
    "print('-'*30)\n",
    "act(r'C:\\Users\\MSI\\Desktop\\Task1(Eng).txt')"
   ]
  },
  {
   "cell_type": "raw",
   "metadata": {},
   "source": [
    "Напишите скрипт, позволяющий искать в заданной директории и в ее подпапках файлы-дубликаты на основе сравнения контрольных сумм (MD5). Файлы могут иметь одинаковое содержимое, но отличаться именами. Скрипт должен вывести группы имен обнаруженных файлов дубликатов"
   ]
  },
  {
   "cell_type": "code",
   "execution_count": 1,
   "metadata": {},
   "outputs": [
    {
     "name": "stdout",
     "output_type": "stream",
     "text": [
      "------------------------------\n",
      "C:\\Users\\MSI\\Desktop\\\\Copy\\Screenshot_1 — копия.png\n",
      "C:\\Users\\MSI\\Desktop\\\\Copy\\Screenshot_1.png\n",
      "------------------------------\n",
      "C:\\Users\\MSI\\Desktop\\\\Copy\\Новый текстовый документ (2).txt\n",
      "C:\\Users\\MSI\\Desktop\\\\Copy\\Новый текстовый документ.txt\n",
      "------------------------------\n",
      "C:\\Users\\MSI\\Desktop\\\\Copy\\music — копия (2)\\Konfuz - Ратата.mp3\n",
      "C:\\Users\\MSI\\Desktop\\\\Copy\\music — копия (3)\\Konfuz - Ратата.mp3\n",
      "------------------------------\n",
      "C:\\Users\\MSI\\Desktop\\\\Copy\\music — копия (2)\\Kostromin - Моя Голова Винтом.mp3\n",
      "C:\\Users\\MSI\\Desktop\\\\Copy\\music — копия (3)\\Kostromin - Моя Голова Винтом.mp3\n",
      "------------------------------\n",
      "C:\\Users\\MSI\\Desktop\\\\Copy\\music — копия (2)\\SQWOZ BAB feat. The First Station - АУФ.mp3\n",
      "C:\\Users\\MSI\\Desktop\\\\Copy\\music — копия (3)\\SQWOZ BAB feat. The First Station - АУФ.mp3\n",
      "------------------------------\n",
      "C:\\Users\\MSI\\Desktop\\\\Copy\\music — копия (2)\\Даня Милохин - Выдыхаю Боль.mp3\n",
      "C:\\Users\\MSI\\Desktop\\\\Copy\\music — копия (3)\\Даня Милохин - Выдыхаю Боль.mp3\n",
      "------------------------------\n",
      "C:\\Users\\MSI\\Desktop\\\\Copy\\music — копия (2)\\Миа Бойка feat. Егор Шип - Наруто.mp3\n",
      "C:\\Users\\MSI\\Desktop\\\\Copy\\music — копия (3)\\Миа Бойка feat. Егор Шип - Наруто.mp3\n"
     ]
    }
   ],
   "source": [
    "import os\n",
    "from collections import defaultdict\n",
    "import hashlib\n",
    "\n",
    "file_dict = defaultdict(list)\n",
    "path = r\"C:\\Users\\MSI\\Desktop\\\\Copy\"\n",
    "for directories in os.walk(path):\n",
    "    for file in directories[2]:\n",
    "        with open(r'{0}\\{1}'.format(directories[0], file), 'rb') as f:\n",
    "            content: bytes = f.read()\n",
    "            file_dict[hashlib.md5(content).hexdigest()].append(r'{0}\\{1}'.format(directories[0], file))\n",
    "    \n",
    "file_dict = {k: v for k, v in file_dict.items() if len(file_dict.get(k)) > 1}\n",
    "\n",
    "for _, values in file_dict.items():\n",
    "    print('-'*30)\n",
    "    for value in values:\n",
    "        print(value)"
   ]
  },
  {
   "cell_type": "raw",
   "metadata": {},
   "source": [
    "Задан путь к директории с музыкальными файлами (в названии которых нет номеров, а только названия песен) и текстовый файл, хранящий полный список песен с номерами и названиями в виде строк формата «01. Freefall [6:12]». Напишите скрипт, который корректирует имена файлов в директории на основе текста списка песен"
   ]
  },
  {
   "cell_type": "code",
   "execution_count": 5,
   "metadata": {},
   "outputs": [
    {
     "name": "stdout",
     "output_type": "stream",
     "text": [
      "['Konfuz - Ратата.mp3', 'Kostromin - Моя Голова Винтом.mp3', 'SQWOZ BAB feat. The First Station - АУФ.mp3', 'Даня Милохин - Выдыхаю Боль.mp3', 'Миа Бойка feat. Егор Шип - Наруто.mp3']\n",
      "['01. Konfuz - Ратата [02.17].mp3', '02. Kostromin - Моя Голова Винтом [02.20].mp3', '03. Даня Милохин - Выдыхаю Боль [01.51].mp3', '04. Миа Бойка feat. Егор Шип - Наруто [01.45].mp3', '05. SQWOZ BAB feat. The First Station - АУФ [03.12].mp3']\n"
     ]
    }
   ],
   "source": [
    "import os \n",
    "\n",
    "path1 = r\"C:\\Users\\MSI\\Desktop\\music\"\n",
    "path2 = r\"C:\\Users\\MSI\\Desktop\\info_music.txt\"\n",
    "\n",
    "with open(path2, 'r',encoding='utf-8') as f:    \n",
    "    info = f.readlines()\n",
    "info = [x.rstrip() for x in info]\n",
    "\n",
    "music_name = [x[4:len(x)-8]+'.mp3' for x in info ]\n",
    "\n",
    "info = [x.replace(\":\",\".\") for x in info]\n",
    "\n",
    "music =os.listdir(path1)\n",
    "print(music)\n",
    "i = 0\n",
    "for file in music:\n",
    "    for name in music_name:\n",
    "        if file == name:\n",
    "            os.rename(os.path.join(path1, file), os.path.join(path1, info[i]+\".mp3\"))\n",
    "    i+=1\n",
    "music = os.listdir(path1)\n",
    "print(music)"
   ]
  },
  {
   "cell_type": "raw",
   "metadata": {},
   "source": [
    "Напишите скрипт, который позволяет ввести с клавиатуры имя текстового файла, найти в нем с помощью регулярных выражений все подстроки определенного вида, в соответствии с вариантом. Например, для варианта № 1 скрипт должен вывести на экран следующее: Строка 3, позиция 10 : найдено '11-05-2014' Строка 12, позиция 2 : найдено '23-11-2014' Строка 12, позиция 17 : найдено '23-11-2014' Вариант 5: найдите все номера телефонов – подстроки вида «(000)1112233» или «(000)111-22-33»."
   ]
  },
  {
   "cell_type": "code",
   "execution_count": 6,
   "metadata": {},
   "outputs": [
    {
     "name": "stdout",
     "output_type": "stream",
     "text": [
      "Строка 1, позиция 16 : найдено ['(000)1112233']\n",
      "Строка 2, позиция 5 : найдено ['(000)111-22-33']\n"
     ]
    }
   ],
   "source": [
    "import os\n",
    "import re\n",
    "\n",
    "file_name = r'C:\\Users\\MSI\\Desktop\\numb.txt'\n",
    "\n",
    "with open(file_name, 'r') as f:\n",
    "    lines = f.readlines()\n",
    "\n",
    "\n",
    "for i, line in enumerate(lines):\n",
    "    found = re.search(r\"\\(\\d{3}\\)\\d{3}\\-?\\d{2}\\-?\\d{2}\", line)\n",
    "    num = re.findall(r\"\\(\\d{3}\\)\\d{3}\\-?\\d{2}\\-?\\d{2}\", line)\n",
    "    if found:\n",
    "        print(f'Строка {i+1}, позиция {line.find(found.group(0))} : найдено {num}')"
   ]
  },
  {
   "cell_type": "raw",
   "metadata": {},
   "source": [
    "Введите с клавиатуры текст. Программно найдите в нем и выведите отдельно все слова, которые начинаются с большого латинского символа (от A до Z) и заканчиваются 2 или 4 цифрами, например «Petr93», «Johnny70», «Service2002». Используйте регулярные выражения"
   ]
  },
  {
   "cell_type": "code",
   "execution_count": 7,
   "metadata": {},
   "outputs": [
    {
     "name": "stdout",
     "output_type": "stream",
     "text": [
      "['Jons93', 'Servise2020', 'Petr93']\n"
     ]
    }
   ],
   "source": [
    "import re\n",
    "\n",
    "text = 'Jons93 Servise2020 jons52 Petr47844 Petr93'\n",
    "\n",
    "found_words = re.findall(r'\\b[A-Z][a-z]+\\d{2}\\b|\\b[A-Z][a-z]+\\d{4}\\b', text)\n",
    "print(found_words)"
   ]
  }
 ],
 "metadata": {
  "kernelspec": {
   "display_name": "Python 3",
   "language": "python",
   "name": "python3"
  },
  "language_info": {
   "codemirror_mode": {
    "name": "ipython",
    "version": 3
   },
   "file_extension": ".py",
   "mimetype": "text/x-python",
   "name": "python",
   "nbconvert_exporter": "python",
   "pygments_lexer": "ipython3",
   "version": "3.8.5"
  }
 },
 "nbformat": 4,
 "nbformat_minor": 4
}
